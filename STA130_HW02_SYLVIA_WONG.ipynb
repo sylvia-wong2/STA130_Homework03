{
 "cells": [
  {
   "cell_type": "markdown",
   "id": "14b74968",
   "metadata": {},
   "source": [
    "## STA130 Homework 02\n",
    "\n",
    "Please see the course [wiki-textbook](https://github.com/pointOfive/stat130chat130/wiki) for the list of topics covered in this homework assignment, and a list of topics that might appear during ChatBot conversations which are \"out of scope\" for the purposes of this homework assignment (and hence can be safely ignored if encountered)"
   ]
  },
  {
   "cell_type": "markdown",
   "id": "860749db",
   "metadata": {},
   "source": [
    "NAME: SYLVIA WONG\n",
    "\n",
    "STUDENT NUMBER: 1010888540\n",
    "\n",
    "UTORID: wongsyl7"
   ]
  },
  {
   "cell_type": "markdown",
   "id": "f014006ff8809433",
   "metadata": {},
   "source": [
    "<details class=\"details-example\"><summary style=\"color:blue\"><u>Introduction</u></summary>\n",
    "\n",
    "### Introduction\n",
    "    \n",
    "A reasonable characterization of STA130 Homework is that it simply defines a weekly reading comprehension assignment. \n",
    "Indeed, STA130 Homework essentially boils down to completing various understanding confirmation exercises oriented around coding and writing tasks.\n",
    "However, rather than reading a textbook, STA130 Homework is based on ChatBots so students can interactively follow up to clarify questions or confusion that they may still have regarding learning objective assignments.\n",
    "\n",
    "> Communication is a fundamental skill underlying statistics and data science, so STA130 Homework based on ChatBots helps practice effective two-way communication as part of a \"realistic\" dialogue activity supporting underlying conceptual understanding building. \n",
    "\n",
    "It will likely become increasingly tempting to rely on ChatBots to \"do the work for you\". But when you find yourself frustrated with a ChatBots inability to give you the results you're looking for, this is a \"hint\" that you've become overreliant on the ChatBots. Your objective should not be to have ChatBots \"do the work for you\", but to use ChatBots to help you build your understanding so you can efficiently leverage ChatBots (and other resources) to help you work more efficiently.<br><br>\n",
    "\n",
    "</details>\n",
    "\n",
    "<details class=\"details-example\"><summary style=\"color:blue\"><u>Instructions</u></summary>\n",
    "\n",
    "### Instructions\n",
    "    \n",
    "1. Code and write all your answers (for both the \"Prelecture\" and \"Postlecture\" HW) in a python notebook (in code and markdown cells) \n",
    "    \n",
    "> It is *suggested but not mandatory* that you complete the \"Prelecture\" HW prior to the Monday LEC since (a) all HW is due at the same time; but, (b) completing some of the HW early will mean better readiness for LEC and less of a \"procrastentation cruch\" towards the end of the week...\n",
    "    \n",
    "2. Paste summaries of your ChatBot sessions (including link(s) to chat log histories if you're using ChatGPT) within your notebook\n",
    "    \n",
    "> Create summaries of your ChatBot sessions by using concluding prompts such as \"Please provide a summary of our exchanges here so I can submit them as a record of our interactions as part of a homework assignment\" or, \"Please provide me with the final working verson of the code that we created together\"\n",
    "    \n",
    "3. Save your python jupyter notebook in your own account and \"repo\" on [github.com](github.com) and submit a link to that notebook though Quercus for assignment marking<br><br>\n",
    "\n",
    "</details>\n",
    "\n",
    "<details class=\"details-example\"><summary style=\"color:blue\"><u>Prompt Engineering?</u></summary>\n",
    "    \n",
    "### Prompt Engineering? \n",
    "    \n",
    "The questions (as copy-pasted prompts) are designed to initialize appropriate ChatBot conversations which can be explored in the manner of an interactive and dynamic textbook; but, it is nonetheless **strongly recommendated** that your rephrase the questions in a way that you find natural to ensure a clear understanding of the question. Given sensible prompts the represent a question well, the two primary challenges observed to arise from ChatBots are \n",
    "\n",
    "1. conversations going beyond the intended scope of the material addressed by the question; and, \n",
    "2. unrecoverable confusion as a result of sequential layers logial inquiry that cannot be resolved. \n",
    "\n",
    "In the case of the former (1), adding constraints specifying the limits of considerations of interest tends to be helpful; whereas, the latter (2) is often the result of initial prompting that leads to poor developments in navigating the material, which are likely just best resolve by a \"hard reset\" with a new initial approach to prompting.  Indeed, this is exactly the behavior [hardcoded into copilot](https://answers.microsoft.com/en-us/bing/forum/all/is-this-even-normal/0b6dcab3-7d6c-4373-8efe-d74158af3c00)...\n",
    "\n",
    "</details>"
   ]
  },
  {
   "cell_type": "markdown",
   "id": "161fd459",
   "metadata": {},
   "source": [
    "\n",
    "### Marking Rubric (which may award partial credit) \n",
    "\n",
    "- [0.1 points]: All relevant ChatBot summaries [including link(s) to chat log histories if you're using ChatGPT] are reported within the notebook\n",
    "- [0.3 points]: Assignment completion confirmed by working \"final\" code and ChatBot summaries for \"3\"\n",
    "- [0.3 points]: Written submission evaluation and enagement confirmation with ChatBot summaries for \"6\"\n",
    "- [0.3 points]: Evaluation of engagement and evaluation of written communication in \"7\"\n",
    "        "
   ]
  },
  {
   "cell_type": "markdown",
   "id": "f7ff3f55",
   "metadata": {},
   "source": [
    "### \"Pre-lecture\" HW [*completion prior to next LEC is suggested but not mandatory*]"
   ]
  },
  {
   "cell_type": "markdown",
   "id": "fda8568b",
   "metadata": {},
   "source": [
    "#### 1. Begin (or restart) part \"3(a)\" of the **TUT Demo** and interact with a ChatBot to make sure you understand how each part the Monte Hall problem code above works<br>\n",
    "\n",
    "<details class=\"details-example\"><summary style=\"color:blue\"><u>Further Guidance</u></summary>\n",
    "    \n",
    "> _ChatBots typically explain code fairly effectively, so a ChatBot will probably be very helpful if you share the full Monte Hall problem code; but, you can always introduce more specific and targetted follow-up prompts that help with focus, re-redirection, and response format regarding the ChatBot responses as needed._ \n",
    ">\n",
    "> _ChatBots won't always re-introduce and re-explain the Monte Hall problem itself, so if you need it to do so you may need to specifically request this as part of your prompt or follow up interactions._\n",
    "\n",
    "</details>\n"
   ]
  },
  {
   "cell_type": "code",
   "execution_count": null,
   "id": "90170e4f",
   "metadata": {},
   "outputs": [],
   "source": [
    "# Monte Hall Simulation Code -- not the only way to code this, but it's what Prof. Schwartz came up with...\n",
    "\n",
    "import numpy as np\n",
    "all_door_options = (1,2,3)  # tuple\n",
    "my_door_choice = 1  # 1,2,3\n",
    "i_won = 0\n",
    "reps = 100000\n",
    "for i in range(reps):\n",
    "    secret_winning_door = np.random.choice(all_door_options)\n",
    "    all_door_options_list = list(all_door_options)\n",
    "    # take the secret_winning_door, so we don't show it as a \"goat\" losing door\n",
    "    all_door_options_list.remove(secret_winning_door)\n",
    "    try:\n",
    "        # if my_door_choice was secret_winning_door then it's already removed\n",
    "        all_door_options_list.remove(my_door_choice)\n",
    "    except:\n",
    "        pass\n",
    "    # show a \"goat\" losing door and remove it\n",
    "    goat_door_reveal = np.random.choice(all_door_options_list)\n",
    "    all_door_options_list.remove(goat_door_reveal)\n",
    "\n",
    "    # put the secret_winning_door back in if it wasn't our choice\n",
    "    # we previously removed it, so it would be shown as a  \"goat\" losing door\n",
    "    if secret_winning_door != my_door_choice:\n",
    "        all_door_options_list.append(secret_winning_door)\n",
    "    # if secret_winning_door was our choice then all that's left in the list is a \"goat\" losing door\n",
    "    # if secret_winning_door wasn't our choice then it's all that will be left in the list\n",
    "\n",
    "    # swap strategy\n",
    "    my_door_choice = all_door_options_list[0]\n",
    "\n",
    "    if my_door_choice == secret_winning_door:\n",
    "        i_won += 1\n",
    "\n",
    "i_won/reps"
   ]
  },
  {
   "cell_type": "markdown",
   "id": "d281c846",
   "metadata": {},
   "source": [
    "Explanation: \n",
    "\n",
    "This code simulates the Monty Hall problem. The Monty Hall problem is a famous probability puzzle that involves three doors: two of which have a goat and one of which has a car. When the player picks a door, the host will always reveal a door with a goat out of the remaining doors. The player can either switch or keep their door. The code explains why switching has a higher probability of winning.\n",
    "\n",
    "The first line imports the NumPy library which is used for numerical and scientific computing. This is so we could use np.random.choice to choose a random door option later. \n",
    "\n",
    "The next lines set up the \"doors\" and choices. That is, a tuple is introduced for the possible door options (1, 2, and 3) and my_door_choice indicates the door chosen (door 1). reps = 100000 indicates this code was repeated 100000 times to calculate an accurate probability.\n",
    "\n",
    "The for loop runs 100000 times. In the first secion, the \"secret_winning_door\", which represents the door with the car, is a random door (it switches for each iteration of the for loop). The list \"all_door_options_list\" is initialized to only have the losing doors so the host can reveal a losing door. In the try-except block, my_door_choice is also removed, as the host will not reveal our choice, then the goat is revealed. If my_door_choice was the winning door and was already removed, the try-except block ignores the code inside the \"try\" and randomly picks out of the remaining losing doors. Finally, the all_door_options_list removes the revealed door and adds back the secret_winning_door if it wasn't the our initial choice. In other words, if our initial choice was the secret_winning_door, the list will only contain a losing door in order to perform the \"switch\". If our initial choice was a losing door, the list will only contain the winning door so the player can switch to it. The code then increments the total wins by 1 if we switched to the winning door.\n",
    "\n",
    "The last line of the for loop calculates the success rate of switching the door which is close to 2/3."
   ]
  },
  {
   "cell_type": "markdown",
   "id": "11581881",
   "metadata": {},
   "source": [
    "#### 2. Extend your ChatBot sessions to now address part \"3(b)\" of the **TUT Demo** and interact with your ChatBot to see if it can suggest a simpler, more streamlined way to code up this *for* loop simulation so the process is more clear and easier to understand; then, describe any preferences you have in terms of readibility or explainability  between the original code and the code improvements suggested by the ChatBot<br>\n",
    "\n",
    "<details class=\"details-example\"><summary style=\"color:blue\"><u>Further Guidance</u></summary>\n",
    "    \n",
    "> _The links in the TUT Demo show that there can be variation in the quality of the code improvements suggested by ChatBots; however, it's most likely that a ChatBot is going to be able to greatly reduce the number of steps/lines of code and hence complexity of understanding the problem. ChatBots can provide a good amount of explanation and inline clarifying code comments and provide more simpler more intuitive code that can transform something that looks a bit scary at first to something that's easy to follow and make sense of. Of course, in doing so, a ChatBot may introduce functions that you've technically not learned or seen before; but, the amount of simplification and clarifying comments is probably going to more than compensate for this; and, you'll have seen a learned a little bit more about what's possible through this process, which is the ideal experience we're hoping you'll see here._ \n",
    "    \n",
    "</details>\n",
    "        "
   ]
  },
  {
   "cell_type": "code",
   "execution_count": 1,
   "id": "921ff9ce",
   "metadata": {},
   "outputs": [
    {
     "data": {
      "text/plain": [
       "0.66815"
      ]
     },
     "execution_count": 1,
     "metadata": {},
     "output_type": "execute_result"
    }
   ],
   "source": [
    "import numpy as np\n",
    "\n",
    "# Define variables\n",
    "all_doors = [1, 2, 3]\n",
    "my_initial_choice = 1  # Always start by picking door 1\n",
    "wins = 0\n",
    "reps = 100000\n",
    "\n",
    "# Simulation loop\n",
    "for _ in range(reps):\n",
    "    # Randomly pick the winning door\n",
    "    winning_door = np.random.choice(all_doors)\n",
    "    \n",
    "    # Simulate the host revealing a goat door (not the winning door or the player's choice)\n",
    "    remaining_doors = [door for door in all_doors if door != my_initial_choice and door != winning_door]\n",
    "    revealed_goat = np.random.choice(remaining_doors)\n",
    "\n",
    "    # Player switches to the remaining unopened door\n",
    "    switched_door = [door for door in all_doors if door != my_initial_choice and door != revealed_goat][0]\n",
    "\n",
    "    # Check if switching wins\n",
    "    if switched_door == winning_door:\n",
    "        wins += 1\n",
    "\n",
    "# Calculate the win ratio when using the \"switch\" strategy\n",
    "win_ratio = wins / reps\n",
    "win_ratio"
   ]
  },
  {
   "cell_type": "markdown",
   "id": "7ac1077a",
   "metadata": {},
   "source": [
    "This code suggested by ChatGPT is much cleaner and easier to read than the code before. ChatGPT makes this code more efficient in two ways.\n",
    "\n",
    "The first is using list comprehensions which is a concise way of creating lists in the form of the following: \"expression\" for \"item\" in \"iterable\" if \"condition\". The expression is how you want to transform each item, the item is the element in the iterable, the iterable is what you loop through, and the conditional picks the items based on a condition. In this case, you add the door to the list, without any \"transformation\" from the \"expression\" part of the list comprehension, but you only add it if the door is not our intial choice or the winning door. In other words, you add one or two losing doors, depending on what your choice was, to remaining_doors so a losing door can revealed by the host. Using list comprehensions makes this code more readable than using \".remove()\" and try-except blocks.\n",
    "\n",
    "The second change made is to avoid appending the winning door back. Instead, a new list is created, once again with list comprehensions, with the remaining untouched door and this door is stored into the variable switched_door by using the index [0]. This is done by picking the door in the all_doors list that is not the initial chocie or the revealed goat leaving only the untouched door left. This makes the switching process easier as the list comprehension already does the switching for you. All that's left is to check if the switched_door is the winning_door.\n",
    "\n",
    "Ultimately, this code is more readable and more logical than the previous code."
   ]
  },
  {
   "cell_type": "markdown",
   "id": "f3fdebd8",
   "metadata": {},
   "source": [
    "#### 3. Submit your preferred version of the Monty Hall problem that is verified to be running and working with a final printed output of the code; then, add code comments explaining the purpose of each line of the code<br>\n",
    "\n",
    "<details class=\"details-example\"><summary style=\"color:blue\"><u>Further Guidance</u></summary>\n",
    "    \n",
    "> _Your ChatBot will likely do much of this for you, but verify for yourself that you understand each comment and reword comments wherever you think it would be better to explain it differently._\n",
    ">\n",
    "> _Remember to ask for summaries of your current session and paste these into your homework notebook  (including link(s) to chat log histories if you're using ChatGPT)_\n",
    "\n",
    "</details>\n",
    " "
   ]
  },
  {
   "cell_type": "code",
   "execution_count": 2,
   "id": "73074bf2",
   "metadata": {},
   "outputs": [
    {
     "data": {
      "text/plain": [
       "0.66532"
      ]
     },
     "execution_count": 2,
     "metadata": {},
     "output_type": "execute_result"
    }
   ],
   "source": [
    "import numpy as np # This imports the NumPy library (used for numerical and scientific computing)\n",
    "\n",
    "# Define variables\n",
    "all_doors = [1, 2, 3] # This is a list of all the doors\n",
    "my_initial_choice = 1  # Start by picking door 1\n",
    "wins = 0 # This keeps track of how many wins you have\n",
    "reps = 100000 # The for loop code is repeated 100000 times.\n",
    "\n",
    "# Simulation loop\n",
    "for _ in range(reps): # This for loop runs 100000 times\n",
    "    \n",
    "    # This randomly picks the winning door\n",
    "    winning_door = np.random.choice(all_doors)\n",
    "    \n",
    "    # This stimulates the host revealing a goat door by using a list comprehension to pick the door that is not the winning door or the player's choice\n",
    "    remaining_doors = [door for door in all_doors if door != my_initial_choice and door != winning_door]\n",
    "    revealed_goat = np.random.choice(remaining_doors) # This code stores the door found in the line above in a variable to represent the host's revealed door\n",
    "\n",
    "    # The player switches to the remaining unopened door by using a list comprehension to choose the door in all_doors that is not our initial choice or the door revealed by the host. This is the \"switched_door\"\n",
    "    switched_door = [door for door in all_doors if door != my_initial_choice and door != revealed_goat][0]\n",
    "\n",
    "    # This checks if switching wins through a condition\n",
    "    if switched_door == winning_door:\n",
    "        wins += 1 # If the switching wins, the \"wins\" variable increments by 1\n",
    "\n",
    "# This calculates the win ratio when using the \"switch\" strategy\n",
    "win_ratio = wins / reps # This calculates how many times won by switching out of the total number of \"games\" played\n",
    "win_ratio # This prints the result"
   ]
  },
  {
   "cell_type": "markdown",
   "id": "8703c125",
   "metadata": {},
   "source": [
    "### Summary of Our Interactions (Question 1-3)\n",
    "\n",
    "### CHAT LOG: https://chatgpt.com/share/66e7a92a-2c3c-8001-a7cc-f541dd77fa06\n",
    "\n",
    "1. **Overview of NumPy**:\n",
    "   - You asked what the NumPy library does. I explained that it is a powerful Python library used for numerical and scientific computing, supporting operations on large, multi-dimensional arrays and matrices, along with various mathematical functions.\n",
    "\n",
    "2. **Monty Hall Simulation Code**:\n",
    "   - You provided a for-loop simulation of the Monty Hall problem using NumPy. The simulation aimed to calculate the win rate when the player follows the strategy of always switching doors after the host reveals a goat.\n",
    "   - I explained how the code works, specifically highlighting the structure of the loop, how the host reveals a goat door, and how the player switches doors.\n",
    "\n",
    "3. **Explanation of the `try-except` Block**:\n",
    "   - You asked for more details about the `try-except` block in your code. I clarified that it prevents errors when trying to remove a door that might already be removed (specifically when the player’s initial choice is the same as the winning door). The `except` block ensures the code continues without interruption if this happens.\n",
    "\n",
    "4. **Adding the Winning Door Back**:\n",
    "   - You asked about adding the winning door back into the list. I explained that after the host reveals a goat door, the winning door is added back to the list if it was removed earlier, allowing the player to switch to the correct door when following the \"switch\" strategy.\n",
    "\n",
    "5. **Simplified Code Suggestion**:\n",
    "   - I provided a more streamlined version of the Monty Hall simulation to make it clearer and easier to understand. This involved simplifying list operations, removing the need for a `try-except` block, and using list comprehensions for filtering doors.\n",
    "\n",
    "6. **List Comprehension Explanation**:\n",
    "   - You asked for an explanation of list comprehensions. I explained that list comprehensions offer a concise way to create new lists by applying expressions and optional conditions to each item in an iterable.\n",
    "\n",
    "7. **Explanation of the `switched_door` Step**:\n",
    "   - Finally, you asked for details about the `switched_door` step in the simplified code. I explained how it uses a list comprehension to filter out the player's initial choice and the revealed goat door, leaving only the remaining door. This remaining door becomes the player's new choice when they switch."
   ]
  },
  {
   "cell_type": "markdown",
   "id": "8ba3ff01",
   "metadata": {},
   "source": [
    "#### 4. Watch the embedded video tutorial on Markov chains in the next Jupyter cell below to understand their application and relevance for ChatBots; then, after watching the video, start a new ChatBot session by prompting that you have code that creates a \"Markovian ChatBot\"; show it the first version of the \"Markovian ChatBot code\" below; and interact with the ChatBot session to make sure you understand how the original first version of the \"Markovian ChatBot code\" works<br>\n",
    "\n",
    "<details class=\"details-example\"><summary style=\"color:blue\"><u>Further Guidance</u></summary>\n",
    "\n",
    "> _If the ChatBot prompts you as to how you will \"train\" your own \"Markovian ChatBot\" you can reply that you'll just use a series of stories with a lot of different characters_\n",
    "> \n",
    "> _Ask for summaries of this second ChatBot session and paste these into your homework notebook (including link(s) to chat log histories if you're using ChatGPT)_\n",
    "    \n",
    "</details>\n",
    "    "
   ]
  },
  {
   "cell_type": "code",
   "execution_count": null,
   "id": "a52754504a625b36",
   "metadata": {},
   "outputs": [],
   "source": [
    "# Markov Chains and Text Generation\n",
    "from IPython.display import YouTubeVideo\n",
    "YouTubeVideo('56mGTszb_iM', width = 550)"
   ]
  },
  {
   "cell_type": "code",
   "execution_count": 3,
   "id": "6704c410",
   "metadata": {},
   "outputs": [
    {
     "name": "stdout",
     "output_type": "stream",
     "text": [
      "{'I': 2, 'love': 2, 'to': 1, 'code': 1, 'and': 1}\n"
     ]
    },
    {
     "data": {
      "text/plain": [
       "{'I': {'love': 2},\n",
       " 'love': {'to': 1, 'pizza': 1},\n",
       " 'to': {'code': 1},\n",
       " 'code': {'and': 1},\n",
       " 'and': {'I': 1}}"
      ]
     },
     "execution_count": 3,
     "metadata": {},
     "output_type": "execute_result"
    }
   ],
   "source": [
    "# Markovian Chatbot (I added the example to visualizze how the code works)\n",
    "\n",
    "words = [\"I\", \"love\", \"to\", \"code\", \"and\", \"I\", \"love\", \"pizza\"]\n",
    "\n",
    "# from collections import defaultdict\n",
    "word_used = dict() # defaultdict(int) <-- Dictionary of the frequencies of each word\n",
    "next_word = dict() # defaultdict(lambda: defaultdict(int)) <-- 2D dictionary of all the words that come after each word in the words_used dictionary\n",
    "for i,word in enumerate(words[:-1]):\n",
    "\n",
    "    if word in word_used: # If word was previously observed in word_used, the frequency increases\n",
    "        word_used[word] += 1\n",
    "    else: # Otherwise a new key:value pair is created and an empty dictionary is created for the words that follow \"word\"\n",
    "        word_used[word] = 1\n",
    "        next_word[word] = {}\n",
    "\n",
    "    if words[i+1] in next_word[word]: # If the word after \"word\" is already recorded in the 2D dictionary, the frequency of seeing \"word[i+1]\" after \"word\" is incremented by 1\n",
    "        next_word[word][words[i+1]] += 1\n",
    "    else: # Otherwise, a new key:value pair is created in the dictionary for \"word[i+1]\"\n",
    "        next_word[word][words[i+1]] = 1\n",
    "        \n",
    "print(word_used)\n",
    "next_word"
   ]
  },
  {
   "cell_type": "markdown",
   "id": "85cf707e",
   "metadata": {},
   "source": [
    "How the code works: This code creates two dictionaries that determine how frequently the word appears (word_used) and which words are likely to follow the current word (next_word). next_word is a dictionary of dictionaries where each key is the word and each value is another dictionary that keeps track of the frequency of the words that follow the current word.\n",
    "\n",
    "In the for loop, \"enumerate(words[:-1])\" loops over the list \"words\". The last word is excluded since there is no word after it.\n",
    "\n",
    "If the word was previously encountered, the frequency for that word increases by 1. If the word has not yet been encountered, that word is added as a key to the word_used dictionary with the value 1. A dictionary is also created in the next_word dictionary to keep track of what words follow the current word. \n",
    "\n",
    "If the next word in the \"words\" list (words[i+1]) has already been observed after \"word\", the code increments the frequency of seeing \"words[i+1]\" after \"word\" by 1. This is done by accessing the 2D dictionary and incrementing the value of the key \"words[i+1]\" by 1. If this is the first time \"words[i+1]\" appears after \"word\", a new key : value pair is created in the inner dictionary for \"words[i+1]\" and is initialized to be a frequency of 1. \n",
    "\n",
    "This explanation can be observed in the example given above.\n",
    "\n",
    "Ultimately, this code counts the frequency of all the words in the text and the frequency of the words follow the current word. This builds the basis of the Markov Chain Text Generation."
   ]
  },
  {
   "cell_type": "markdown",
   "id": "a0c41f25",
   "metadata": {},
   "source": [
    "### Summary of Interactions (Question 4):\n",
    "\n",
    "### CHAT LOG: https://chatgpt.com/share/66e841c7-005c-8001-bd19-f003d055a44f\n",
    "\n",
    "1. **Markovian Chatbot Code**  \n",
    "   You provided a Python code snippet that builds a Markovian chatbot using word transition frequencies. The code creates two dictionaries:\n",
    "   - `word_used`: Tracks how often each word appears.\n",
    "   - `next_word`: Tracks how frequently each word is followed by another.\n",
    "\n",
    "   I explained how this code works:\n",
    "   - It counts word occurrences and tracks word transitions.\n",
    "   - It builds the foundation of a simple Markov chain model for generating text.\n",
    "\n",
    "2. **Enhancing the Markovian Chatbot**  \n",
    "   I provided a more complete version of the chatbot code, which included:\n",
    "   - Defining the `words` list from a text corpus.\n",
    "   - Adding functionality to generate a sentence by probabilistically selecting the next word based on the transition frequencies.\n",
    "\n",
    "3. **Detailed Explanation of the Original Code**  \n",
    "   I gave a detailed step-by-step explanation of how the original code operates:\n",
    "   - How it loops through the list of words, counts word occurrences, and tracks transitions.\n",
    "   - How the two dictionaries (`word_used` and `next_word`) store word and transition frequencies.\n",
    "   - An example illustrating how the process works with a sample sentence.\n",
    "\n",
    "4. **Usefulness of the Code**  \n",
    "   You asked why the code is useful, and I explained that it forms the basis for a Markov chain model, which can be applied to:\n",
    "   - **Text generation**: Creating realistic sentences or chatbot responses based on word transitions.\n",
    "   - **Predictive text models**: Such as auto-completion.\n",
    "   - **Language pattern analysis**: Studying how words transition in natural language.\n",
    "   - **Markov Decision Processes (MDP)**: Used in AI for decision-making tasks.\n",
    "   - This model is lightweight and efficient for simple tasks like chatbots or auto-complete systems.\n",
    "\n",
    "This summary encapsulates our discussion on the Markovian chatbot. Let me know if you need further adjustments!"
   ]
  },
  {
   "cell_type": "markdown",
   "id": "7a17e608",
   "metadata": {},
   "source": [
    "<details class=\"details-example\"><summary style=\"color:blue\"><u>Continue now...?</u></summary>\n",
    "\n",
    "### Pre-lecture VS Post-lecture HW\n",
    "\n",
    "Feel free to work on the \"Post-lecture\" HW below if you're making good progress and want to continue: for **HW 02** continuing could be reasonable because questions \"5-7\" below directly follow up and extend \"Pre-lecture\" HW question \"4\"\n",
    "\n",
    "*The benefits of continue would are that (a) it might be fun to try to tackle the challenge of working through some problems without additional preparation or guidance; and (b) this is a very valable skill to be comfortable with; and (c) it will let you build experience interacting with ChatBots (and beginning to understand their strengths and limitations in this regard)... it's good to have sense of when using a ChatBot is the best way to figure something out, or if another approach (such as course provided resources or a plain old websearch for the right resourse) would be more effective*\n",
    "    \n",
    "</details>    "
   ]
  },
  {
   "cell_type": "markdown",
   "id": "d6ae0a64",
   "metadata": {},
   "source": [
    "### \"Post-lecture\" HW [*submission along with \"Pre-lecture\" HW is due prior to next TUT*]"
   ]
  },
  {
   "cell_type": "markdown",
   "id": "a3979c94",
   "metadata": {},
   "source": [
    "#### 5. Recreate (or resume) the previous ChatBot session from question \"4\" above, and now  prompt the ChatBot session that you have a couple extensions of the code to show it, and then show it each of the extentions of the \"Markovian ChatBot code\" below in turn\n",
    "\n",
    "### Please note: I wrote reflections under this part; however, I know they were not required. Thank you! (Sylvia)\n",
    "\n",
    "\n",
    "\n",
    "1. Without just supplying your ChatBot session with the answers, see if the ChatBot can figure out what the extensions in the code do; namely, making character specific Markov chains, and using bigrams (rather than just the previous word alone) dependency... prompt your ChatBot session with some hints if it's not seeming to \"get it\"<br><br>\n",
    "    \n",
    "2. Interact with your ChatBot session to have it explain details of the code wherever you need help understanding what the code is doing and how it works<br><br>\n",
    "    \n",
    "3. Start yet another new ChatBot session and first show the ChatBot the original \"Markovian ChatBot code\" below, and then tell ChatBot that you have an extension but this time just directly provide it the more complicated final extension without ever providing the intermediate extension code to the ChatBot session and see if it's still able to understand everything extension does; namely, making character specific Markov chains, and using bigrams (rather than just the previous word alone) dependency... prompt the ChatBot with some hints if it's not seeming to understand what you're getting at...<br><br>\n",
    "    \n",
    "<details class=\"details-example\"><summary style=\"color:blue\"><u>Further Guidance</u></summary>\n",
    "\n",
    "> **ALERT: Time Warning**. Regarding the comments below (which will likely be relevant and useful for you), you might find the potential learning experience that this provides to be a quite the rabbit total rabbit hole and time sink. You might end up finding out that you spent way more time than I should on learning the code!! So be mindful of your time management as there is much to do for many classes!\n",
    ">    \n",
    "> _As you may or may not have already experienced in the previous problem, a ChatBot applied to this problem is likely to start explaining a bit more knowledge about Python than you need to know (as a student just trying to learn stats+DS); however, you'll probably feel like this \"out of scope\" context information is helpful to know (or at least be aware of) and easy to understand and learn if you use some addtional prompts to dig deeper into them. A ChatBot will be quite good at explaining and helping understand smaller chunks of code; however, if given too much information at once it can gloss over some information._\n",
    ">   \n",
    "> _That said, some topics here are potentially quite and advanced and too tricky! You might be able to ask the ChatBot to simplify its explanations and that might help a bit. But on the other hand, some topics, such as, \"how does `nested_dict = lambda: defaultdict(nested_dict)` work?\" might just simply be too advanced to really admit a simpler explanation via a ChatBot. You'll have to let these sorts of things go, if you come across explanations that just aren't improving or helping at at. In the case of `defaultdict(nested_dict)` specifically, the details here are well beyond the scope of STA130 and can be very safely ignored for now. The code will have reviewed and \"walked thorugh\" in LEC, but the perspectives espoused there will be the extent of the formal commentary and information regarding the coding topics we encounter in the Markov ChatBots code here._\n",
    ">     \n",
    "> _Unlike with the Monte Hall problem, we will not inquire with the ChatBot to see if it can suggest any streamlining, readability, or usability improvements to the alternative versions of the \"Markovian ChatBot code\" we're examining_\n",
    ">     \n",
    "> - _because doing so seems to result in the attempted creation of dubiously functional modular code with a focus on reusability (which is likely a result of ChatBot design being primarily a \"computer science\" topic), so ChatBot reponses here tend to orient around programming and system design principles (despite \"Markovian\" very much being a \"statistics\" topic)_\n",
    ">     \n",
    "> _Programming and system design principles are beyond the scope of STA130; but, they are critical for modern data science careers... if you are interested in pursuing a data science career, it is imperitive that you complete courses like CSC263, CSC373, and perhaps an additional \"systems design\" course_\n",
    "> \n",
    "> ---\n",
    "> \n",
    "> _Don't forget to ask for summaries of all your different ChatBot sessions and organize and paste these into your homework notebook (including link(s) to chat log histories if you're using ChatBot)_\n",
    "    \n",
    "</details>\n",
    "     "
   ]
  },
  {
   "cell_type": "code",
   "execution_count": null,
   "id": "6ef9d628",
   "metadata": {},
   "outputs": [],
   "source": [
    "from collections import defaultdict \n",
    "# Markovian Chatbot Extension #1\n",
    "\n",
    "word_used2 = defaultdict(int)\n",
    "next_word2 = defaultdict(lambda: defaultdict(int))\n",
    "for i,word in enumerate(words[:-2]):\n",
    "    word_used2[word+' '+words[i+1]] += 1\n",
    "    next_word2[word+' '+words[i+1]][words[i+2]] += 1 "
   ]
  },
  {
   "cell_type": "code",
   "execution_count": null,
   "id": "40fb2f9b",
   "metadata": {},
   "outputs": [],
   "source": [
    "# Markovian Chatbot Extension #2\n",
    "\n",
    "from collections import Counter, defaultdict\n",
    "# `avatar` is a dataset, and `character` is one of it's columns\n",
    "characters = Counter(\"\\n\"+ avatar.character.str.upper().str.replace(' ','.')+\":\")\n",
    "# this code changes the type of the `character` column to `str`; then,\n",
    "# makes the text uppercase, and replaces spaces with '.'\n",
    "\n",
    "nested_dict = lambda: defaultdict(nested_dict)\n",
    "word_used2C = nested_dict()\n",
    "next_word2C = nested_dict()\n",
    "\n",
    "for i,word in enumerate(words[:-2]):\n",
    "    if word in characters:\n",
    "        character = word\n",
    "        \n",
    "    if character not in word_used2C:\n",
    "        word_used2C[character] = dict()\n",
    "    if word+' '+words[i+1] not in word_used2C[character]:\n",
    "        word_used2C[character][word+' '+words[i+1]] = 0\n",
    "    word_used2C[character][word+' '+words[i+1]] += 1\n",
    "    \n",
    "    if character not in next_word2C:\n",
    "        next_word2C[character] = dict()\n",
    "    if word+' '+words[i+1] not in next_word2C[character]:\n",
    "        next_word2C[character][word+' '+words[i+1]] = dict()\n",
    "    if words[i+2] not in next_word2C[character][word+' '+words[i+1]]:\n",
    "        next_word2C[character][word+' '+words[i+1]][words[i+2]] = 0\n",
    "    next_word2C[character][word+' '+words[i+1]][words[i+2]] += 1"
   ]
  },
  {
   "cell_type": "markdown",
   "id": "35dff3c0",
   "metadata": {},
   "source": [
    "1. ChatGPT's explanation\n",
    "    - Extension 1: ChatGPT is able to understand that the first extension allows the model to use bigram dependency. It explains that instead of looping through each word, the extension loops through each pair of consecutive words in the \"for i, word in enumerate(words[:-2])\" line. This means that the \"next word\" is dependent on the previous two words. It also explains that the current word is combined with the next word to form a bigram and word_used2 tracks the frequency of the bigram occuring. Finally, it explains that next_word2 tracks how often the third word follows the bigram by using the bigram as the key and another dictionary for the frequencies of the third word.\n",
    "    - Extension 2: ChatGPT is also able to explain the second extension. It identifies that the second extension allows the chatbot to generate sentences that reflect how each character of \"Avatar\" speaks. It explains that the line that defines \"characters\" counts how many occurences of each character. In the nested dictionary, a recursive dictionary structure is created and again, word_used2C keeps track of the frequency of the bigrams while next_word2C keeps track of the next words for each character's bigrams. The main loop operates similar to before but this time, if the word is unique to a character, it assigns the word to character. This tells the chatbot to generate any \"next word\" based on the character. For each character, the bigrams formed are stored into the dictionary. The next word is once again stored based on the bigram and the character. This method uses many nested dictionaries.\n",
    "2. Clarifying what I don't understand\n",
    "    - Nested dictionaries: Nested dictionaries are created recursively in multiple levels. This dictionary has the key of the character. The key of the inner dictionary is the bigram, and the key of the inner-most dictionary is the word that follows the bigram.\n",
    "    - Counting the bigrams: The bigrams are counted per character. Inside the third if-block, if the bigram had not previously occured, it is initialized. Regardless of whether it is initialized or not, the occurence of the bigram is incremented by 1 as this iteration counts as seeing the bigram once. The same logic is used for creating the dictionary for \"next_word\"."
   ]
  },
  {
   "cell_type": "markdown",
   "id": "66c466a6",
   "metadata": {},
   "source": [
    "### Summary of Interactions (Question 5 Part 1 & 2):\n",
    "\n",
    "### CHAT LOG: https://chatgpt.com/share/66e8f7db-b3e0-8001-adc6-7248e82b2b7b\n",
    "\n",
    "1. **Markovian Chatbot Code**  \n",
    "   You initially provided a Python code snippet for a Markovian chatbot. The original code tracked word transitions using dictionaries:\n",
    "   - `word_used`: Tracks how often each word appears.\n",
    "   - `next_word`: Tracks how frequently each word is followed by another.\n",
    "\n",
    "   I explained how this code works, iterating over words to build a basic Markov chain model that could generate text based on word transition probabilities.\n",
    "\n",
    "2. **Markovian Chatbot Extension #1**  \n",
    "   You extended the chatbot code by introducing **bigrams** (pairs of consecutive words):\n",
    "   - The extension modified the code to track transitions between pairs of words and their next word, instead of single words.\n",
    "   - This allowed the model to capture more context, improving the text generation quality by considering two-word sequences rather than just one.\n",
    "\n",
    "3. **Markovian Chatbot Extension #2**  \n",
    "   You introduced another extension where each bigram was modeled based on the **speaking patterns of characters** in a dataset (`avatar.character`). The code:\n",
    "   - Used a nested dictionary (`word_used2C` and `next_word2C`) to track bigrams and next words specific to each character.\n",
    "   - This allowed the model to differentiate between characters and generate more character-specific text, reflecting the language patterns of individual speakers.\n",
    "\n",
    "4. **Explanation of Key Concepts**  \n",
    "   - **Nested Dictionaries**: I explained how nested dictionaries work in Python, allowing data to be organized hierarchically. In your chatbot code, this was used to store bigrams and next-word counts specific to characters.\n",
    "   - **How Bigrams Are Tracked**: I provided a detailed breakdown of the code that checks for the existence of a bigram for each character and increments its count. This logic ensures that word sequences are properly tracked and counted for different speakers.\n",
    "\n",
    "5. **Usefulness of the Code**  \n",
    "   - The code extensions add complexity to the Markov chain, allowing more accurate predictions by tracking context through bigrams and characters.\n",
    "   - These extensions are useful for improving text generation, mimicking character speech, and providing more natural language outputs in applications like chatbots or creative writing tools.\n",
    "\n",
    "This summary covers our discussions related to the Markovian chatbot and its extensions. Let me know if you'd like any adjustments!"
   ]
  },
  {
   "cell_type": "markdown",
   "id": "6c9fedb3",
   "metadata": {},
   "source": [
    "3. Does ChatGPT understand the second extension?\n",
    "    - ChatGPT does automatically understand the second extension; however, it places more emphasis on using bigrams rather than the modification to speak in the character's tone of voice. It also explains both in very little detail. After prompting ChatGPT to explain the character specific Markov chains, ChatGPT provides much more detail. Similarily, after prompting ChatGPT, it explains how the bigram is used and how it is implemented in the code. Ultimately, ChatGPT does understand what the code does; however, provides little detail when the second extension is directly provided."
   ]
  },
  {
   "cell_type": "markdown",
   "id": "fe1f5e5d",
   "metadata": {},
   "source": [
    "### **Summary of Interactions (Question 5 Part 3):**\n",
    "\n",
    "### CHAT LOG: https://chatgpt.com/share/66e8fb46-96ac-8001-a8e0-ba27e72844f6\n",
    "\n",
    "1. **Initial Code Review:**\n",
    "   - **Objective:** The provided code is a basic Markov model chatbot that uses a dataset from **Avatar: The Last Airbender**.\n",
    "   - **Process:** \n",
    "     - Loaded the dataset and preprocessed it to create a list of words.\n",
    "     - Built a Markov model to track word frequencies and transitions using two dictionaries: `word_used` and `next_word`.\n",
    "     - **Improvement Suggestion:** Added a sentence generation function to generate responses based on the model.\n",
    "\n",
    "2. **Extension of the Code:**\n",
    "   - **Objective:** Extended the Markov model to a second-order model, where the next word depends on the previous two words.\n",
    "   - **Process:**\n",
    "     - Introduced a nested dictionary structure to store word pairs and their following words for each character.\n",
    "     - **New Features:**\n",
    "       - Used `word + ' ' + words[i + 1]` to track the frequency of word pairs.\n",
    "       - Used `next_word2C` to track transitions between word pairs and their subsequent words.\n",
    "     - **Improvement Suggestion:** Provided a sentence generation function for the second-order Markov model, allowing for more context-aware responses.\n",
    "\n",
    "3. **Handling of Characters:**\n",
    "   - **Purpose of `word + ' ' + words[i + 1]`:** \n",
    "     - Creates and tracks two-word sequences to analyze dialogue patterns for each character.\n",
    "     - Stores frequencies of word pairs and transitions between them to build a more sophisticated model.\n",
    "   - **Usage in Code:**\n",
    "     - Used to record how often each word pair appears and how often certain words follow these pairs for each character."
   ]
  },
  {
   "cell_type": "markdown",
   "id": "116f0a96",
   "metadata": {},
   "source": [
    "#### 6. Report on your experience interacting with ChatBots to understand the Monte Hall problem and \"Markovian ChatBot\" code\n",
    "\n",
    "1. Discuss how quickly the ChatBot was able to be helpful for each of the above questions, and if so, how?<br><br>\n",
    "    \n",
    "2. Discuss whether or not interacting with ChatBot to try to figure things out was frustrating or unhelpful, and if so, how?<br><br>\n",
    "    \n",
    "3. Based on your experiences to date (e.g., including using ChatBots to troubleshoot coding errors in the previous homework), provide an overall assessment evaluating the usefulness of ChatBots as tools to help you understand code<br>"
   ]
  },
  {
   "cell_type": "markdown",
   "id": "8a43f46d",
   "metadata": {},
   "source": [
    "1. The ChatBot was able to answer each question above quickly; however, it did occasionally provide vague and general explanations. For example, when provided with complicated code directly, ChatGPT only gave an outline of what the code does but provided no detail about each lines of code. It only mentioned that the second extension counted the occurences of each character's name, used a nested dictionary, and stored word pairs but gave no further detail. It gives short and general answers without explaining the purpose of each line of code. In these cases, more prompting had to be done in order to get the answers I wanted. In general, I was able to get helpful answers after one or two additional prompts.\n",
    "\n",
    "2. Interacting with ChatGPT was not frustrating or unhelpful. This is because, in general, ChatGPT was able to determine what I was asking and provide a focused answer tailored to the code I had given it after one or two extra prompts. After prompting, ChatGPT looks each line of the code and gives a readable explanation of each line does. This allows me to better understand the code and to learn new methods and functions within the NumPy, Pandas, and SciPy datasets. While ChatGPT does occasionally provide vague answers, as mentioned above, after prompting the ChatBot with a few more questions, ChatGPT is able to explain the concept. Furthermore, ChatGPT did provide a vague answer to how the nested dictionary work, but it is likely due to the complexity of this line of code. Although ChatGPT provided a general explanation for this code, I still found its explanation of simpler concepts useful and detailed. Ultiamtely, I did not find interacting with ChatGPT to be frustrating or unhelpful. \n",
    "\n",
    "3. Overall, ChatGPT is a useful tool to help me understand code. As previously explained, ChatGPT provides answers specific to code and datasets that I feed it, allowing me to understand the code in the context of where it is being used. It is much more helpful for troubleshooting errors than Google Search as it is able to analyze the code and error I give it and create an explanation on how to fix the issue. Using Google for errors and explanations, on the other hand, is more time consuming and difficult to understand as Google does not filter any explanations specific to your code, forcing you to read the many links with information that might not be relevant. One downside of ChatGPT is its inability toe explain complex concepts in detail, as mentioned with the nested dictionary and the second extension. However, ultimately, ChatGPT is useful to explain simple concepts in a concise and easy-to-understand manner."
   ]
  },
  {
   "cell_type": "markdown",
   "id": "4642d6c2",
   "metadata": {},
   "source": [
    "#### 7. Reflect on your experience interacting with ChatBot and describe how your perception of AI-driven assistance tools in the context of learning coding, statistics, and data science has been evolving (or not) since joining the course<br><br>\n",
    "\n",
    "<details class=\"details-example\"><summary style=\"color:blue\"><u>Further Guidance</u></summary>\n",
    "    \n",
    "> _Question \"7\" and the next question \"8\" are somewhat related to the first bullet point in the suggested interactions of the \"Afterword\" to the Homework from last week... consider reviewing that if you'd like a little extra orienting around what these questions are trying to have you explore_\n",
    "   \n",
    "</details>"
   ]
  },
  {
   "cell_type": "markdown",
   "id": "08e63a04",
   "metadata": {},
   "source": [
    "Before joining this course, I believed that using ChatBots in coding, statistics, and data science was, in a way, \"cheating\". I believed that in order to learn, one should learn information in the lecture and apply it on their own without assistance from a ChatBot. However, after interacting with ChatGPT for two weeks, my perception has changed. I found that by using ChatGPT, I actually learned more than I would without it. ChatGPT was able to explain concepts to me in a focused manner, filtering out all the unnecessary and irrelevant information that a Google Search would have given me. In combination with what I learned from the lecture, I found myself grasping the concepts easier than without ChatGPT. Furthermore, using ChatGPT to code helped me focus on the concepts that are more important to the course (for example how to clean data) rather than learning the Python syntax. Finally, I found ChatBots useful to troubleshoot code as they were able to identify and explain the errors simply and clearly. Though some concepts were too complicated for the ChatBot causing it to provide a vague explanation, in general, using ChatGPT in this course has changed my view of ChatBots and has allowed me to see the potential of AI in the field of statistics."
   ]
  },
  {
   "cell_type": "markdown",
   "id": "500f440e",
   "metadata": {},
   "source": [
    "#### 8. ChatBots consume text data available on the web or platforms, and thus represents a new way to \"search consensensus\" that condenses and summarizes mainstream human thought<br><br>\n",
    "\n",
    "1. Start a new ChatBot session and discuss the relevance of learning and adaptability, communication, coding, and statistics and data analysis as skills in the modern world, especially with respect to career opportunities (particularly in the context of the data science industry)<br><br>\n",
    "    \n",
    "2. See if ChatBot thinks you could be a statistician or data scientist without coding or doing data analysis, and then transition your ChatBot conversation into a career exploration discussion, using the ChatBot to identify the skills that might be the most valuable for a career that you're interested<br><br>\n",
    "    \n",
    "3. Ask for a summary of this ChatBot session and paste it into your homework notebook (including link(s) to chat log histories if you're using ChatBot)<br><br>\n",
    "    \n",
    "4. Paraphrase the assessments and conclusions of your conversation in the form of a reflection on your current thoughts regarding your potential future career(s) and how you can go about building the skills you need to pursue it<br><br>\n",
    "\n",
    "5. Give your thoughts regarding the helpfulness or limitations of your conversation with a ChatBot, and describe the next steps you would take to pursue this conversation further if you felt the information the ChatBot provides was somewhat high level and general, and perhaps lacked the depth and detailed knowledge of a dedicated subject matter expert who had really take the time to understand the ins and outs of the industry and career path in question.\n",
    "<br><br>\n",
    "\n",
    "<details class=\"details-example\"><summary style=\"color:blue\"><u>Further Guidance</u></summary>\n",
    "\n",
    "> _While question 8 is not a part of the rubric, it is nonetheless a very good exercise that will likely be valuable for you if you engage it them sincerely_\n",
    "    \n",
    "</details>\n"
   ]
  },
  {
   "cell_type": "markdown",
   "id": "c94a7529",
   "metadata": {},
   "source": [
    "### Summary of Interactions (Question 8 Parts 1, 2, 3)\n",
    "\n",
    "### CHAT LOG: https://chatgpt.com/share/66ecc6c7-aac4-8001-83ed-8df8bfe86096\n",
    "\n",
    "### 1. **Relevance of Skills in the Modern World**\n",
    "   - **Learning**: Necessary for continuous development and staying updated with new technologies and methodologies across industries.\n",
    "   - **Adaptability**: Crucial in handling constant changes in technology, markets, and workplaces. It fosters resilience and innovation.\n",
    "   - **Communication**: Vital for collaboration, especially with global teams. Clear communication helps convey ideas and decisions effectively.\n",
    "   - **Coding**: Becoming a fundamental skill in the digital age, enabling automation, data manipulation, and problem-solving in various industries.\n",
    "   - **Statistics**: Core for data-driven decision-making in business, healthcare, and other fields. Understanding data is crucial for strategic decisions.\n",
    "   - **Analysis**: Key to critically assessing information, solving problems, and making informed decisions.\n",
    "\n",
    "### 2. **Relevance of These Skills in Data Science**\n",
    "   - **Learning**: Necessary for staying current with evolving tools, programming languages, and machine learning models in data science.\n",
    "   - **Adaptability**: Data scientists must adapt to diverse data types, shifting project goals, and new tools to ensure effective problem-solving.\n",
    "   - **Communication**: Crucial for explaining complex data insights to non-technical stakeholders and translating analysis into actionable business strategies.\n",
    "   - **Coding**: Integral to data science for data processing, model building, and automation using languages like Python, R, and SQL.\n",
    "   - **Statistics**: The foundation for hypothesis testing, model validation, and drawing insights from data.\n",
    "   - **Analysis**: Drives the entire data science workflow, from interpreting data to applying machine learning algorithms.\n",
    "\n",
    "### 3. **Could You Be a Statistician or Data Scientist Without Coding or Data Analysis?**\n",
    "   - **Statistics**: While coding can be minimized with the use of software like SPSS, data analysis is an unavoidable part of being a statistician.\n",
    "   - **Data Science**: Both coding and data analysis are critical for success in this field. You may pursue non-technical roles adjacent to data science (e.g., business analyst or data strategy consultant), but full data science work requires these skills.\n",
    "\n",
    "### 4. **Relevance of Key Skills for Bioinformatics**\n",
    "   - **Learning**: Essential for staying updated with new bioinformatics tools, programming languages, and biological advancements. Bioinformatics combines biology, computer science, and statistics, so continuous learning is necessary.\n",
    "   - **Adaptability**: Critical in bioinformatics for handling various biological datasets and adopting emerging technologies. Flexibility is needed when switching between computational tasks and collaborating with different fields.\n",
    "   - **Communication**: Important for explaining complex computational findings to non-technical biologists, chemists, or clinicians. Effective communication ensures successful interdisciplinary work and research outcomes.\n",
    "   - **Coding**: Programming is core to bioinformatics. Languages like Python, R, and Perl are used for automating tasks, analyzing data, and developing algorithms.\n",
    "   - **Statistics**: Fundamental in bioinformatics for interpreting biological data. Techniques like regression, hypothesis testing, and machine learning are crucial for analyzing genomic and other biological datasets.\n",
    "   - **Analysis**: Critical thinking and data analysis are key to choosing the right tools, evaluating data quality, and deriving meaningful conclusions from biological data.\n"
   ]
  },
  {
   "cell_type": "markdown",
   "id": "e0fd7dfe",
   "metadata": {},
   "source": [
    "Part 4:\n",
    "\n",
    "In the future, I aim to have a possible career in bioinformatics, a field in which one must use statistics to analyze biological data. In order to be successful in this career, I must have soft-skills and transferable skills to enhance my performance in both the statistics and biology parts of this career. Firstly, skills that apply to both fields include the ability to learn, to adapt, to communicate, and to analyze. As the life sciences and statistics fields advance, it is crucial to have the ability to learn new skills quickly and to adapt to these changes, especially in bioinformatics which combines biology, computer science, and statistics. For example, as technology is integrated into life science and healthcare, I must be able to adapt and to keep up with new methodologies and technologies in order to be successful in this career. To build these skills, I will shadow professors and researchers as observing how they work and the environment which can help me learn to adapt to an environment similar to my future workplace. Furthermore, I can develop my ability to learn by attending competitions on biology or statistics. \n",
    "\n",
    "The ability to communicate and to analyze information are also vital to be successful in the bioinformatics field. Communication, in any field, is required for collaboration and teamwork. In the field of bioinformatics, communication is required to present findings clearly to other clinicians. Analysis is also important as it allows me to solve problems and make decisions. Specifically in the field of bioinformatics, seeing trends in data, drawing rational conclusions about genes and their functions, and relationships between genes all require the ability to think logically and to analyze. In order to build these skills, I can apply for research that requires me to communicate with a team to share my findings and to draw conclusions from data found.\n",
    "\n",
    "Finally, coding and knowledge of statistics are both required for bioinformatics. As many careers become dependent on technology, knowing how to code and knowing basic statistics is vital to be successful. In bioinformatics, languages like Python, R, and Perl are used when large amounts of data about gene sequences must be analyzed. Code and statistics can help analyze large datasets by running models, developing algorithms, showing trends, and testing hypotheses. To further develop my coding and statistics skills, I can make use of ChatBots to learn the basics of coding and statistics. I can also attend competitions, as mentioned above.\n",
    "\n",
    "Ultimately, both soft-skills and skills like coding and statistics are crucial in the job of bioinformatics.\n"
   ]
  },
  {
   "cell_type": "markdown",
   "id": "353c3336",
   "metadata": {},
   "source": [
    "Part 5:\n",
    "\n",
    "In general, ChatGPT provided logical explanations of the importance of each skill in data science and bioinformatics careers. In this homework, ChatGPT provided clear, concise explanations to the Markov Chain code and the Monty Hall problem. However, ChatGPT did have some limitations. Some answers provided by the ChatBot were vague and general. For example, when asking ChatGPT about the benefits of adaptation in statistics and bioinformatics, it provided a generic example and explanation: Flexibility in switching between computational tasks, collaborating with biologists, and handling changes in research direction will help you thrive in bioinformatics.\n",
    "\n",
    "Some next steps I would take to pursue this conversation further are that I will try to attend workshops about bioinformatics and other related jobs. This way, I can speak directly to experts about information that ChatGPT failed to give me. For example, I could ask questions about their experience working in the field so I can learn what these skills look like in the career. Furthermore, I will try to shadow a professional or attend a work-study program to get more first-hand experience of the career that ChatGPT could not describe."
   ]
  },
  {
   "cell_type": "markdown",
   "id": "b489452e",
   "metadata": {},
   "source": [
    "#### 9. Have you reviewed the course [wiki-textbook](https://github.com/pointOfive/stat130chat130/wiki) and interacted with a ChatBot (or, if that wasn't sufficient, real people in the course piazza discussion board or TA office hours) to help you understand all the material in the tutorial and lecture that you didn't quite follow when you first saw it?<br><br>\n",
    "  \n",
    "<details class=\"details-example\"><summary style=\"color:blue\"><u>Further Guidance</u></summary>\n",
    "    \n",
    "> _Just answering \"Yes\" or \"No\" or \"Somewhat\" or \"Mostly\" or whatever here is fine as this question isn't a part of the rubric; but, the midterm and final exams may ask questions that are based on the tutorial and lecture materials; and, your own skills will be limited by your familiarity with these materials (which will determine your ability to actually do actual things effectively with these skills... like the course project...)_\n",
    "    \n",
    "</details>"
   ]
  },
  {
   "cell_type": "markdown",
   "id": "29605a2b",
   "metadata": {},
   "source": [
    "Yes and both the wiki-textbook and the ChatBot were helpful."
   ]
  },
  {
   "cell_type": "code",
   "execution_count": null,
   "id": "16f95257fb4fda6c",
   "metadata": {},
   "outputs": [],
   "source": [
    "# Markovian Chatbot\n",
    "\n",
    "# from collections import defaultdict\n",
    "word_used = dict() # defaultdict(int)\n",
    "next_word = dict() # defaultdict(lambda: defaultdict(int))\n",
    "for i,word in enumerate(words[:-1]):\n",
    "\n",
    "    if word in word_used:\n",
    "        word_used[word] += 1\n",
    "    else:\n",
    "        word_used[word] = 1\n",
    "        next_word[word] = {}\n",
    "\n",
    "    if words[i+1] in next_word[word]:\n",
    "        next_word[word][words[i+1]] += 1\n",
    "    else:\n",
    "        next_word[word][words[i+1]] = 1"
   ]
  },
  {
   "cell_type": "code",
   "execution_count": null,
   "id": "bd0e5d2163411e8e",
   "metadata": {},
   "outputs": [],
   "source": [
    "# Markovian Chatbot Extension #1\n",
    "\n",
    "word_used2 = defaultdict(int)\n",
    "next_word2 = defaultdict(lambda: defaultdict(int))\n",
    "for i,word in enumerate(words[:-2]):\n",
    "    word_used2[word+' '+words[i+1]] += 1\n",
    "    next_word2[word+' '+words[i+1]][words[i+2]] += 1 "
   ]
  },
  {
   "cell_type": "code",
   "execution_count": null,
   "id": "33fe616edecddb60",
   "metadata": {},
   "outputs": [],
   "source": [
    "# Markovian Chatbot Extension #2\n",
    "\n",
    "from collections import Counter, defaultdict\n",
    "# `avatar` is a dataset, and `character` is one of it's columns\n",
    "characters = Counter(\"\\n\"+ avatar.character.str.upper().str.replace(' ','.')+\":\")\n",
    "# this code changes the type of the `character` column to `str`; then,\n",
    "# makes the text uppercase, and replaces spaces with '.'\n",
    "\n",
    "nested_dict = lambda: defaultdict(nested_dict)\n",
    "word_used2C = nested_dict()\n",
    "next_word2C = nested_dict()\n",
    "\n",
    "for i,word in enumerate(words[:-2]):\n",
    "    if word in characters:\n",
    "        character = word\n",
    "        \n",
    "    if character not in word_used2C:\n",
    "        word_used2C[character] = dict()\n",
    "    if word+' '+words[i+1] not in word_used2C[character]:\n",
    "        word_used2C[character][word+' '+words[i+1]] = 0\n",
    "    word_used2C[character][word+' '+words[i+1]] += 1\n",
    "    \n",
    "    if character not in next_word2C:\n",
    "        next_word2C[character] = dict()\n",
    "    if word+' '+words[i+1] not in next_word2C[character]:\n",
    "        next_word2C[character][word+' '+words[i+1]] = dict()\n",
    "    if words[i+2] not in next_word2C[character][word+' '+words[i+1]]:\n",
    "        next_word2C[character][word+' '+words[i+1]][words[i+2]] = 0\n",
    "    next_word2C[character][word+' '+words[i+1]][words[i+2]] += 1"
   ]
  },
  {
   "cell_type": "markdown",
   "id": "1ebfa9b9",
   "metadata": {},
   "source": [
    "## Recommended Additional Useful Activities [Optional]\n",
    "\n",
    "The \"Ethical Profesionalism Considerations\" and \"Current Course Project Capability Level\" sections below **are not a part of the required homework assignment**; rather, they are regular weekly guides covering (a) relevant considerations regarding professional and ethical conduct, and (b) the analysis steps for the STA130 course project that are feasible at the current stage of the course <br><br>\n",
    "\n",
    "\n",
    "<details class=\"details-example\"><summary style=\"color:blue\"><u>Ethical Professionalism Considerations</u></summary>\n",
    "\n",
    "### Ethical Professionalism Considerations\n",
    "\n",
    "    \n",
    "> 1. If you've not heard of the \"reproducibility crisis\" in science, have a ChatBot explain it to you\n",
    "> 2. If you've not heard of the \"open source software\" (versus proprietary software), have a ChatBot explain it to you\n",
    "> 3. \"Reproducibility\" can also be considered at the level of a given data analysis project: can others replicate the results of code or analysis that you've done?\n",
    ">    1. Discuss with a ChatBot how jupyter notebooks and github can be used facilitate transparency and reproducibility in data analysis\n",
    "> 4. Discuss with a ChatBot what the distinction is between replicability of scientific experiments, versus the replicability of a specific data analysis project, and what your responsibility as an analyst should be with respect to both\n",
    "> 5. Do you think proprietary (non \"open source software\") software, such as Microsoft Word, Outlook, and Copilot tends to result in high quality products?  \n",
    ">     1. Do you think software product monopolies (such as the UofT dependence on Microsoft products) makes the world a better place?\n",
    "</details>    \n",
    "\n",
    "<details class=\"details-example\"><summary style=\"color:blue\"><u>Current Course Project Capability Level</u></summary>\n",
    "\n",
    "### Current Course Project Capability Level\n",
    "   \n",
    "**Remember to abide by the [data use agreement](https://static1.squarespace.com/static/60283c2e174c122f8ebe0f39/t/6239c284d610f76fed5a2e69/1647952517436/Data+Use+Agreement+for+the+Canadian+Social+Connection+Survey.pdf) at all times.**\n",
    "\n",
    "Information about the course project is available on the course github repo [here](https://github.com/pointOfive/stat130chat130/tree/main/CP), including a draft [course project specfication](https://github.com/pointOfive/stat130chat130/blob/main/CP/STA130F23_course_project_specification.ipynb) (subject to change). \n",
    "- The Week 01 HW introduced [STA130F24_CourseProject.ipynb](https://github.com/pointOfive/stat130chat130/blob/main/CP/STA130F24_CourseProject.ipynb), and the [available variables](https://drive.google.com/file/d/1ISVymGn-WR1lcRs4psIym2N3or5onNBi/view). \n",
    "- Please do not download the [data](https://drive.google.com/file/d/1mbUQlMTrNYA7Ly5eImVRBn16Ehy9Lggo/view) accessible at the bottom of the [CSCS](https://casch.org/cscs) webpage (or the course github repo) multiple times.\n",
    "\n",
    "> At this point in the course you should be able to create a `for` loop to iterate through and provide **simple summaries** of some of the interesting columns in the course project data\n",
    ">\n",
    "> 1. Create two versions of the code, one for numeric and the other for categorical data,  which provide a printout format that displays relavent summaries and the missing data counts for a given set of (either numerical or categorical) columns being examined\n",
    ">\n",
    "> 2. Combine the two separate `for` loops into a single `for` loop using an `if`/`else` **conditional logic structure** that determines the correct printout format based on the data type of the column under consideration  \n",
    ">     1. *Being able to transform existing code so it's \"resuable\" for different purposes is one version of the programming design principle of \"polymorphism\" (which means \"many forms\" or \"many uses\") [as in the first task above]*\n",
    ">     2. *A better version of the programming design principle of \"polymorphism\" is when the same code can handle different use cases [as in the second tast above]*\n",
    ">     3. *Being able run your code with different subsets of columns as interest in different variables changes is a final form of the programming design principle of \"polymorphism\" that's demonstrated through this exercise*   \n",
    "    \n",
    "</details>        "
   ]
  }
 ],
 "metadata": {
  "kernelspec": {
   "display_name": "Python 3 (ipykernel)",
   "language": "python",
   "name": "python3"
  },
  "language_info": {
   "codemirror_mode": {
    "name": "ipython",
    "version": 3
   },
   "file_extension": ".py",
   "mimetype": "text/x-python",
   "name": "python",
   "nbconvert_exporter": "python",
   "pygments_lexer": "ipython3",
   "version": "3.11.6"
  }
 },
 "nbformat": 4,
 "nbformat_minor": 5
}
